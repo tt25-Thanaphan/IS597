{
 "cells": [
  {
   "metadata": {},
   "cell_type": "markdown",
   "source": [
    "Welcome to my final project page\n",
    "Thanaphan Thapthimhin\n",
    "tt25@illinois.edu\n",
    "\n",
    "For IS597-MLC: Machine Learning Pipelines Using Cloud-Based Platforms\n",
    "Summer 2024"
   ],
   "id": "470ba4516a1ba848"
  },
  {
   "metadata": {},
   "cell_type": "markdown",
   "source": [
    "There are two models: Gradient Boosting basic and XGBoosting power\n",
    "You as the rater please run both of them to see the results. They are not linked or called by each other. They are separate.\n",
    "My final project is to compare the results between the two. Please read my .pdf file in the Canvas page for the full final project paper.\n",
    "Make sure you have this dataset \"america_north.Canada.eng.1\" ready.\n",
    "In case the jupyter notebooks fail to work, I also attach the .py codes with the same names there as well.\n",
    "\n",
    "Thank you and have a good day. \n",
    "\n",
    "\n",
    "Thanaphan"
   ],
   "id": "5aab479ff912e482"
  },
  {
   "metadata": {},
   "cell_type": "code",
   "outputs": [],
   "execution_count": null,
   "source": "",
   "id": "8a529183d0997af5"
  }
 ],
 "metadata": {
  "kernelspec": {
   "display_name": "Python 3",
   "language": "python",
   "name": "python3"
  },
  "language_info": {
   "codemirror_mode": {
    "name": "ipython",
    "version": 2
   },
   "file_extension": ".py",
   "mimetype": "text/x-python",
   "name": "python",
   "nbconvert_exporter": "python",
   "pygments_lexer": "ipython2",
   "version": "2.7.6"
  }
 },
 "nbformat": 4,
 "nbformat_minor": 5
}
